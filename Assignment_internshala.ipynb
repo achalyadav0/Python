{
 "cells": [
  {
   "cell_type": "code",
   "execution_count": 1,
   "id": "7b174d98",
   "metadata": {},
   "outputs": [
    {
     "name": "stdout",
     "output_type": "stream",
     "text": [
      "True\n"
     ]
    }
   ],
   "source": [
    "def Error(A: [int], B: [int], E: int):\n",
    "    sumA=0 #this variable will store the sum of the the array A\n",
    "    sumB=0 #this variable will store the sum of the the array B\n",
    "    lengthA=len(A) \n",
    "    lengthB=len(B)\n",
    "    if lengthA==lengthB:  # we will check if the length of A and B are same or not\n",
    "        for i in range(lengthA):\n",
    "            sumA=sumA+A[i]  \n",
    "            sumB=sumB+B[i]\n",
    "        if abs(sumA-sumB)%E==0:  # by subtracting sum of A and B we will get the multiples of errors only\n",
    "            print(\"True\")\n",
    "    else:\n",
    "        print(\"False\")\n",
    "        \n",
    "A= [1,2,3,4,5] \n",
    "E=2\n",
    "B= [5,3,6,3,0]\n",
    "Error(A,B,E)"
   ]
  },
  {
   "cell_type": "code",
   "execution_count": 2,
   "id": "14793e04",
   "metadata": {},
   "outputs": [
    {
     "name": "stdout",
     "output_type": "stream",
     "text": [
      "4\n"
     ]
    }
   ],
   "source": [
    "def LongestSubarrayLength(a: [int], k: int, n: int):\n",
    "     \n",
    "\n",
    "    left, right = 0, 0 # 2 pointers\n",
    "    Sum = a[0]\n",
    "    maxLen = 0\n",
    "    while right < n:\n",
    "        # if sum > k, reduce the subarray from left\n",
    "        # until sum becomes less or equal to k:\n",
    "        while left <= right and Sum > k:\n",
    "            Sum -= a[left]\n",
    "            left += 1\n",
    "\n",
    "        # if sum = k, update the maxLen i.e. answer:\n",
    "        if Sum == k:\n",
    "            maxLen = max(maxLen, right - left + 1)\n",
    "\n",
    "        # Move forward the right pointer:\n",
    "        right += 1\n",
    "        if right < n:\n",
    "             Sum += a[right]\n",
    "\n",
    "    return maxLen\n",
    "\n",
    "\n",
    "\n",
    "a = [1,2,1,0,1]\n",
    "k = 4\n",
    "n = len(a)\n",
    "length = LongestSubarrayLength(a,k,n)\n",
    "print(length)"
   ]
  },
  {
   "cell_type": "code",
   "execution_count": null,
   "id": "e10b42eb",
   "metadata": {},
   "outputs": [],
   "source": []
  }
 ],
 "metadata": {
  "kernelspec": {
   "display_name": "Python 3 (ipykernel)",
   "language": "python",
   "name": "python3"
  },
  "language_info": {
   "codemirror_mode": {
    "name": "ipython",
    "version": 3
   },
   "file_extension": ".py",
   "mimetype": "text/x-python",
   "name": "python",
   "nbconvert_exporter": "python",
   "pygments_lexer": "ipython3",
   "version": "3.9.17"
  }
 },
 "nbformat": 4,
 "nbformat_minor": 5
}
