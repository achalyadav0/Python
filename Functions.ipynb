{
 "cells": [
  {
   "cell_type": "markdown",
   "id": "86b3727a",
   "metadata": {},
   "source": [
    "# Q1. Which keyword is used to create a function? Create a function to return a list of odd numbers in the range of 1 to 25."
   ]
  },
  {
   "cell_type": "code",
   "execution_count": 16,
   "id": "9a3c2d27",
   "metadata": {},
   "outputs": [],
   "source": [
    "''' def keyword is used to create a function in python'''\n",
    "def odd():\n",
    "    l=[]\n",
    "    for i in range(1,25):\n",
    "        if i%2!=0:\n",
    "            l.append(i)\n",
    "    return l"
   ]
  },
  {
   "cell_type": "code",
   "execution_count": 17,
   "id": "f1da5a0e",
   "metadata": {},
   "outputs": [
    {
     "data": {
      "text/plain": [
       "[1, 3, 5, 7, 9, 11, 13, 15, 17, 19, 21, 23]"
      ]
     },
     "execution_count": 17,
     "metadata": {},
     "output_type": "execute_result"
    }
   ],
   "source": [
    "odd()"
   ]
  },
  {
   "cell_type": "markdown",
   "id": "5107363c",
   "metadata": {},
   "source": [
    "# Q2. Why *args and **kwargs is used in some functions? Create a function each for *args and **kwargs to demonstrate their use."
   ]
  },
  {
   "cell_type": "code",
   "execution_count": null,
   "id": "4973f4ce",
   "metadata": {},
   "outputs": [],
   "source": [
    "'''*args == Non-Keyword Arguments\n",
    "   it  allow us to pass the variable number of non keyword arguments to function\n",
    "   \n",
    "   **kwargs == Keyword Arguments\n",
    "   it allows us to pass the variable length of keyword arguments to the function\n",
    "'''"
   ]
  },
  {
   "cell_type": "code",
   "execution_count": 22,
   "id": "bd66bfe1",
   "metadata": {},
   "outputs": [
    {
     "name": "stdout",
     "output_type": "stream",
     "text": [
      "Sum: 45\n"
     ]
    }
   ],
   "source": [
    "def add(*args):\n",
    "    sum = 0\n",
    "    \n",
    "    for i in args :\n",
    "        sum = sum + i\n",
    "\n",
    "    print(\"Sum:\",sum)\n",
    "    \n",
    "add(1,2,3,4,5,6,7,8,9)"
   ]
  },
  {
   "cell_type": "code",
   "execution_count": 21,
   "id": "54c65191",
   "metadata": {},
   "outputs": [
    {
     "name": "stdout",
     "output_type": "stream",
     "text": [
      "Firstname is Achal\n",
      "Lastname is Yadav\n",
      "Age is 22\n",
      "Phone is 1234567890\n",
      "Firstname is Vijay\n",
      "Lastname is Kumar\n",
      "Email is achallamba@gamil.com\n",
      "Country is India\n",
      "Age is 19\n",
      "Phone is 76543210\n"
     ]
    }
   ],
   "source": [
    "def intro(**data):\n",
    "    #print(\"\\nData type of argument:\",type(data))\n",
    "\n",
    "    for key, value in data.items():\n",
    "        print(\"{} is {}\".format(key,value))\n",
    "\n",
    "intro(Firstname=\"Achal\", Lastname=\"Yadav\", Age=22, Phone=1234567890)\n",
    "intro(Firstname=\"Vijay\", Lastname=\"Kumar\", Email=\"achallamba@gamil.com\", Country=\"India\", Age=19, Phone=76543210)"
   ]
  },
  {
   "cell_type": "markdown",
   "id": "cb5a1193",
   "metadata": {},
   "source": [
    "# Q3. What is an iterator in python? Name the method used to initialise the iterator object and the method used for iteration. Use these methods to print the first five elements of the given list [2, 4, 6, 8, 10, 12, 14, 16, 18, 20]."
   ]
  },
  {
   "cell_type": "code",
   "execution_count": 24,
   "id": "1f5265a5",
   "metadata": {},
   "outputs": [
    {
     "name": "stdout",
     "output_type": "stream",
     "text": [
      "2\n",
      "4\n",
      "6\n",
      "8\n",
      "10\n"
     ]
    }
   ],
   "source": [
    "'''Iterators are objects that allow you to traverse through all\n",
    "the elements of a collection and return one element at a time.\n",
    "iter() method is used to initialise the iterator object\n",
    "next() method is used for iteration'''\n",
    "list=[2, 4, 6, 8, 10, 12, 14,16, 18, 20]\n",
    "a=iter(list)\n",
    "for i in range(5):\n",
    "    print(next(a))"
   ]
  },
  {
   "cell_type": "markdown",
   "id": "37c5e20e",
   "metadata": {},
   "source": [
    "# Q4. What is a generator function in python? Why yield keyword is used? Give an example of a generator function."
   ]
  },
  {
   "cell_type": "code",
   "execution_count": 25,
   "id": "5192bc62",
   "metadata": {},
   "outputs": [],
   "source": [
    "\"\"\" a generator fucntion is a function in python that returns an iterator that produce a sequence\n",
    "   of value when it is called rather than storing the values like in a normal function\n",
    "   we don't need to store the values in the memory it just return the values of the iterator whenever it is called \n",
    "\"\"\"\n",
    "\"\"\"\n",
    "Yield Keyword is used in generator function, in place of return we use yield keyword in generator function\n",
    "it gives us a generator object\"\"\"\n",
    "def fun():\n",
    "    '''generator function for the yield of the even no.'''\n",
    "    for i in range(11):\n",
    "        if i%2==0:\n",
    "            yield i\n",
    "        "
   ]
  },
  {
   "cell_type": "code",
   "execution_count": 40,
   "id": "858c123f",
   "metadata": {},
   "outputs": [
    {
     "data": {
      "text/plain": [
       "0"
      ]
     },
     "execution_count": 40,
     "metadata": {},
     "output_type": "execute_result"
    }
   ],
   "source": [
    "a=fun()\n",
    "next(a)"
   ]
  },
  {
   "cell_type": "code",
   "execution_count": 41,
   "id": "26ca5464",
   "metadata": {},
   "outputs": [
    {
     "data": {
      "text/plain": [
       "2"
      ]
     },
     "execution_count": 41,
     "metadata": {},
     "output_type": "execute_result"
    }
   ],
   "source": [
    "next(a)"
   ]
  },
  {
   "cell_type": "markdown",
   "id": "8dde23f3",
   "metadata": {},
   "source": [
    "# Q5. Create a generator function for prime numbers less than 1000. Use the next() method to print the first 20 prime numbers."
   ]
  },
  {
   "cell_type": "code",
   "execution_count": 42,
   "id": "0c41d668",
   "metadata": {},
   "outputs": [],
   "source": [
    "def funt():\n",
    "    for i in range (2,1000):\n",
    "        for j in range(2,i):\n",
    "            if i%j==0:\n",
    "                break\n",
    "        else:\n",
    "            yield i\n"
   ]
  },
  {
   "cell_type": "code",
   "execution_count": 43,
   "id": "f27d4873",
   "metadata": {},
   "outputs": [
    {
     "name": "stdout",
     "output_type": "stream",
     "text": [
      "2\n",
      "3\n",
      "5\n",
      "7\n",
      "11\n",
      "13\n",
      "17\n",
      "19\n",
      "23\n",
      "29\n",
      "31\n",
      "37\n",
      "41\n",
      "43\n",
      "47\n",
      "53\n",
      "59\n",
      "61\n",
      "67\n",
      "71\n"
     ]
    }
   ],
   "source": [
    "a=iter(funt())\n",
    "for i in range (20):\n",
    "    print(next(a))"
   ]
  },
  {
   "cell_type": "markdown",
   "id": "e22a6882",
   "metadata": {},
   "source": [
    "# Q6. Write a python program to print the first 10 Fibonacci numbers using a while loop."
   ]
  },
  {
   "cell_type": "code",
   "execution_count": 54,
   "id": "c4447f60",
   "metadata": {},
   "outputs": [
    {
     "name": "stdout",
     "output_type": "stream",
     "text": [
      "10\n",
      "Fibonacci series is:  0 1 1 2 3 5 8 13 21 34 "
     ]
    }
   ],
   "source": [
    "n = int(input())\n",
    "a = 0\n",
    "b = 1\n",
    "sum = a + b\n",
    "count = 1\n",
    "print(\"Fibonacci series is: \", end=\" \")\n",
    "while (count <= n):\n",
    "\n",
    "    count += 1\n",
    "    print(a, end=\" \")\n",
    "    a = b\n",
    "    b = sum\n",
    "    sum = a + b\n"
   ]
  },
  {
   "cell_type": "markdown",
   "id": "0089547f",
   "metadata": {},
   "source": [
    "# Q7. Write a List Comprehension to iterate through the given string: ‘pwskills’. Expected output: ['p', 'w', 's', 'k', 'i', 'l', 'l', 's']"
   ]
  },
  {
   "cell_type": "code",
   "execution_count": 4,
   "id": "3f82d951",
   "metadata": {},
   "outputs": [],
   "source": [
    "a='pwskills'\n",
    "b=iter(a)\n",
    "l=[i for i in b]"
   ]
  },
  {
   "cell_type": "code",
   "execution_count": 5,
   "id": "2c3d1dac",
   "metadata": {},
   "outputs": [
    {
     "name": "stdout",
     "output_type": "stream",
     "text": [
      "['p', 'w', 's', 'k', 'i', 'l', 'l', 's']\n"
     ]
    }
   ],
   "source": [
    "print(l)"
   ]
  },
  {
   "cell_type": "markdown",
   "id": "16dedc75",
   "metadata": {},
   "source": [
    "# Q8. Write a python program to check whether a given number is Palindrome or not using a while loop."
   ]
  },
  {
   "cell_type": "code",
   "execution_count": 78,
   "id": "c8cbdcc6",
   "metadata": {},
   "outputs": [
    {
     "name": "stdout",
     "output_type": "stream",
     "text": [
      "enter the no.12344321\n",
      "the given no. is a Palindrome\n"
     ]
    }
   ],
   "source": [
    "n= (int (input(\"enter the no.\")))\n",
    "'''temp will store the value of n and all the operatios in the while loop will be performed on the temp'''\n",
    "temp= n\n",
    "''' rev variable will store the reversed no. the we make from the reminders'''\n",
    "rev=0\n",
    "while (temp>0):\n",
    "    reminder=temp%10 \n",
    "    temp= temp//10\n",
    "    \n",
    "    rev= rev*10 + reminder\n",
    "if rev==n:\n",
    "    print(\"the given no. is a Palindrome\")\n",
    "else:\n",
    "    print(\"the given no. is not a Palindrome\")"
   ]
  },
  {
   "cell_type": "markdown",
   "id": "ee426a77",
   "metadata": {},
   "source": [
    "# Q9. Write a code to print odd numbers from 1 to 100 using list comprehension."
   ]
  },
  {
   "cell_type": "code",
   "execution_count": 2,
   "id": "46100e0b",
   "metadata": {},
   "outputs": [],
   "source": [
    "l=[i for i in range(1,100) if i%2!=0]"
   ]
  },
  {
   "cell_type": "code",
   "execution_count": 101,
   "id": "2a4ca3f7",
   "metadata": {},
   "outputs": [
    {
     "name": "stdout",
     "output_type": "stream",
     "text": [
      "[1, 3, 5, 7, 9, 11, 13, 15, 17, 19, 21, 23, 25, 27, 29, 31, 33, 35, 37, 39, 41, 43, 45, 47, 49, 51, 53, 55, 57, 59, 61, 63, 65, 67, 69, 71, 73, 75, 77, 79, 81, 83, 85, 87, 89, 91, 93, 95, 97, 99]\n"
     ]
    }
   ],
   "source": [
    "print(l)"
   ]
  },
  {
   "cell_type": "code",
   "execution_count": 3,
   "id": "c681260f",
   "metadata": {},
   "outputs": [
    {
     "data": {
      "text/plain": [
       "[1,\n",
       " 3,\n",
       " 5,\n",
       " 7,\n",
       " 9,\n",
       " 11,\n",
       " 13,\n",
       " 15,\n",
       " 17,\n",
       " 19,\n",
       " 21,\n",
       " 23,\n",
       " 25,\n",
       " 27,\n",
       " 29,\n",
       " 31,\n",
       " 33,\n",
       " 35,\n",
       " 37,\n",
       " 39,\n",
       " 41,\n",
       " 43,\n",
       " 45,\n",
       " 47,\n",
       " 49,\n",
       " 51,\n",
       " 53,\n",
       " 55,\n",
       " 57,\n",
       " 59,\n",
       " 61,\n",
       " 63,\n",
       " 65,\n",
       " 67,\n",
       " 69,\n",
       " 71,\n",
       " 73,\n",
       " 75,\n",
       " 77,\n",
       " 79,\n",
       " 81,\n",
       " 83,\n",
       " 85,\n",
       " 87,\n",
       " 89,\n",
       " 91,\n",
       " 93,\n",
       " 95,\n",
       " 97,\n",
       " 99]"
      ]
     },
     "execution_count": 3,
     "metadata": {},
     "output_type": "execute_result"
    }
   ],
   "source": [
    "list(filter(lambda x: x%2!=0, l))"
   ]
  },
  {
   "cell_type": "code",
   "execution_count": null,
   "id": "d45bab01",
   "metadata": {},
   "outputs": [],
   "source": []
  }
 ],
 "metadata": {
  "kernelspec": {
   "display_name": "Python 3 (ipykernel)",
   "language": "python",
   "name": "python3"
  },
  "language_info": {
   "codemirror_mode": {
    "name": "ipython",
    "version": 3
   },
   "file_extension": ".py",
   "mimetype": "text/x-python",
   "name": "python",
   "nbconvert_exporter": "python",
   "pygments_lexer": "ipython3",
   "version": "3.9.13"
  }
 },
 "nbformat": 4,
 "nbformat_minor": 5
}
